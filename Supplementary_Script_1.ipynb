{
 "cells": [
  {
   "cell_type": "markdown",
   "metadata": {},
   "source": [
    "## Supplementary Script 1: Basic phylogenetic analysis"
   ]
  },
  {
   "cell_type": "code",
   "execution_count": 1,
   "metadata": {},
   "outputs": [],
   "source": [
    "import os\n",
    "from collections import defaultdict\n",
    "import numpy as np\n",
    "import pandas as pd\n",
    "import matplotlib.pyplot as plt\n",
    "import seaborn as sns\n",
    "import scipy.stats as stats\n",
    "%matplotlib inline"
   ]
  },
  {
   "cell_type": "code",
   "execution_count": 2,
   "metadata": {},
   "outputs": [],
   "source": [
    "colors = sns.color_palette()\n",
    "\n",
    "# path to patient overview file of original cohort (Supplementary Table 1)\n",
    "overview_fp = 'Supplementary_Table_1.xlsx'\n",
    "# path to phylogenetic clustering file of original cohort (Supplementary Table 2)\n",
    "clustering_fp = 'Supplementary_Table_2.xlsx'\n",
    "\n",
    "col_mono_dm = 'Monophyletic distant mets'\n",
    "col_mono_lm = 'Monophyletic lymphatic mets'\n",
    "col_metmono_dm = 'Monophyletic distant mets ALT_CLF'\n",
    "col_metmono_lm = 'Monophyletic lymphatic mets ALT_CLF'\n",
    "col_no_dm = 'No distant mets'\n",
    "col_no_lm = 'No lymphatic mets'\n",
    "try:\n",
    "    all_overview_df = pd.read_excel(overview_fp)\n",
    "    \n",
    "    # analyze Naxerova cohort (Kim cohort is analyzed separately for Fig. 2)\n",
    "    overview_df = all_overview_df[all_overview_df.Dataset == 'Naxerova']\n",
    "except FileNotFoundError:\n",
    "    print('ERROR: File {} needs to be in the same folder!'.format(overview_fp))\n",
    "    raise\n",
    "\n",
    "try:\n",
    "    clustering_df = pd.read_excel(clustering_fp)\n",
    "except FileNotFoundError:\n",
    "    print('ERROR: File {} needs to be in the same folder!'.format(clustering_fp))\n",
    "    raise"
   ]
  },
  {
   "cell_type": "code",
   "execution_count": 3,
   "metadata": {},
   "outputs": [
    {
     "name": "stdout",
     "output_type": "stream",
     "text": [
      "Mean and median number of lymphatic mets for subjects with at least 2 lymphatic mets: 3.7, 3.0\n",
      "Mean and median number of distant mets for subjects with at least 2 distant mets: 3.0, 2.5\n"
     ]
    }
   ],
   "source": [
    "# create dataframe for bar plot depicting the observed frequency of monophyletic clades \n",
    "d = defaultdict(list)\n",
    "for index, row in overview_df.iterrows():\n",
    "    if not np.isnan(row[col_mono_dm]):\n",
    "        met_type = 'Distant'\n",
    "        d['Patient'].append(row.Patient)\n",
    "        d['MonophyleticClade'].append(True if row[col_mono_dm] == 1 else False)\n",
    "        d['MetMonophyleticClade'].append(True if row[col_metmono_dm] == 1 else False)\n",
    "        d['Type'].append(met_type)\n",
    "        d['NoSamples'].append(clustering_df[(clustering_df.Patient == row.Patient) \n",
    "              & (clustering_df['Metastasis type'] == met_type)].m.values[0])\n",
    "        \n",
    "    if not np.isnan(row[col_mono_lm]):\n",
    "        met_type = 'Lymphatic'\n",
    "        d['Patient'].append(row.Patient)\n",
    "        d['MonophyleticClade'].append(True if row[col_mono_lm] == 1 else False)\n",
    "        d['MetMonophyleticClade'].append(True if row[col_metmono_lm] == 1 else False)\n",
    "        d['Type'].append(met_type)\n",
    "        d['NoSamples'].append(clustering_df[(clustering_df.Patient == row.Patient) \n",
    "              & (clustering_df['Metastasis type'] == met_type)].m.values[0])\n",
    "        \n",
    "phyletic_df = pd.DataFrame(data=d)  \n",
    "print('Mean and median number of lymphatic mets for subjects with at least 2 lymphatic mets: {}, {}'.format(\n",
    "    np.mean(phyletic_df[(phyletic_df['Type'] == 'Lymphatic')]['NoSamples']), \n",
    "    np.median(phyletic_df[(phyletic_df['Type'] == 'Lymphatic')]['NoSamples'])))\n",
    "print('Mean and median number of distant mets for subjects with at least 2 distant mets: {}, {}'.format(\n",
    "    np.mean(phyletic_df[(phyletic_df['Type'] == 'Distant')]['NoSamples']), \n",
    "    np.median(phyletic_df[(phyletic_df['Type'] == 'Distant')]['NoSamples'])))"
   ]
  },
  {
   "cell_type": "code",
   "execution_count": 4,
   "metadata": {},
   "outputs": [],
   "source": [
    "def compare_monophyletic_clades(df, col_lm, col_dm, label):\n",
    "    \"\"\"\n",
    "    Investigate the fraction of patients with a monophyletic clade of all lymphatic or distant metastases\n",
    "    :param df: dataframe with patients and whether there were monophyletic clades\n",
    "    :param col_lm: name of boolean dataframe column for monophyletic lymphatic mets \n",
    "    :param col_dm: name of boolean dataframe column for monophyletic distant mets \n",
    "    :param label: what is being investigated\n",
    "    \"\"\"\n",
    "    # \n",
    "    dm_mono_frac = len(df[df[col_dm] == 1]) / df[col_dm].count()\n",
    "    lm_mono_frac = len(df[df[col_lm] == 1]) / df[col_lm].count()\n",
    "\n",
    "    print('{} of distant metastases: {:.3%} ({}/{})'.format(\n",
    "        label, dm_mono_frac, len(df[df[col_dm] == 1]), df[col_dm].count()))\n",
    "    print('{} of lymphatic metastases: {:.3%} ({}/{})'.format(\n",
    "        label, lm_mono_frac, len(df[df[col_lm] == 1]), df[col_lm].count()))\n",
    "    oddsratio, pvalue = stats.fisher_exact(\n",
    "        [[len(df[df[col_dm] == 1]), len(df[df[col_dm] == 0])], \n",
    "         [len(df[df[col_lm] == 1]), len(df[df[col_lm] == 0])]])\n",
    "    print('Probability to observe a more imbalanced ratio by chance is {:.4e}.'.format(pvalue))\n",
    "    \n",
    "def plot_monophyletic_clade(df, y_col, ylabel, filepath=None):  \n",
    "    \"\"\"\n",
    "    Create bar plot with the fraction of monophyletic clades per metastasis type\n",
    "    :param df: dataframe with patients and whether there were monophyletic clades\n",
    "    :param y_col: name of boolean column with monophyletic clade information\n",
    "    :param ylabel: y-axis label\n",
    "    :param filepath: if not None plot is stored at the given path\n",
    "    \"\"\"\n",
    "    plot_height = 3      # plot height\n",
    "    ci = 90              # confidence interval \n",
    "    sns.set(font_scale = 1.17)\n",
    "    with sns.axes_style('white', {'axes.grid': False, 'grid.linestyle': u':', \n",
    "                                  'xtick.labelsize': 13, 'ytick.labelsize': 10,\n",
    "                                  'ytick.major.size': 4.0}):\n",
    "\n",
    "        fg = sns.catplot(x='Type', y=y_col, data=phyletic_df, ci=ci, height=plot_height, \n",
    "                            aspect=0.9, palette=colors, kind='bar', order=['Lymphatic', 'Distant'])\n",
    "\n",
    "        fg.set(ylim=[0, 1], ylabel=ylabel)\n",
    "        fg.set(xlabel='');\n",
    "        fg.fig.get_axes()[0].yaxis.set_tick_params(which='major', left='on')\n",
    "\n",
    "        if filepath is not None:\n",
    "            plt.savefig(filepath, dpi=150, bbox_inches='tight', transparent=True)"
   ]
  },
  {
   "cell_type": "code",
   "execution_count": 5,
   "metadata": {},
   "outputs": [
    {
     "name": "stdout",
     "output_type": "stream",
     "text": [
      "Monophyletic clade of distant metastases: 66.667% (4/6)\n",
      "Monophyletic clade of lymphatic metastases: 10.000% (1/10)\n",
      "Probability to observe a more imbalanced ratio by chance is 3.5714e-02.\n"
     ]
    },
    {
     "data": {
      "image/png": "[encoded data removed]",
      "text/plain": [
       "<Figure size 194.4x216 with 1 Axes>"
      ]
     },
     "metadata": {},
     "output_type": "display_data"
    }
   ],
   "source": [
    "# Compare the monophyletic clades of lymphatic and distant mets (Fig. 1b)\n",
    "compare_monophyletic_clades(overview_df, col_mono_lm, col_mono_dm, label='Monophyletic clade')\n",
    "plot_monophyletic_clade(phyletic_df, y_col='MonophyleticClade', ylabel='Monophyletic clade', \n",
    "                        filepath='pnl_monophyletic_clade.pdf')"
   ]
  },
  {
   "cell_type": "code",
   "execution_count": 6,
   "metadata": {},
   "outputs": [
    {
     "name": "stdout",
     "output_type": "stream",
     "text": [
      "Monophyletic met clade of distant metastases: 83.333% (5/6)\n",
      "Monophyletic met clade of lymphatic metastases: 20.000% (2/10)\n",
      "Probability to observe a more imbalanced ratio by chance is 3.4965e-02.\n"
     ]
    },
    {
     "data": {
      "image/png": "[encoded data removed]",
      "text/plain": [
       "<Figure size 194.4x216 with 1 Axes>"
      ]
     },
     "metadata": {},
     "output_type": "display_data"
    }
   ],
   "source": [
    "# Compare the monophyletic clades of lymphatic and distant mets when no primary tumor samples\n",
    "# can be in a monophyletic clade (Supplementary Information)\n",
    "compare_monophyletic_clades(overview_df, col_metmono_lm, col_metmono_dm, label='Monophyletic met clade')\n",
    "plot_monophyletic_clade(phyletic_df, y_col='MetMonophyleticClade', ylabel='Monophyletic met clade', \n",
    "                        filepath='pnl_monophyletic_met_clade.pdf')"
   ]
  },
  {
   "cell_type": "code",
   "execution_count": 7,
   "metadata": {},
   "outputs": [
    {
     "name": "stdout",
     "output_type": "stream",
     "text": [
      "Number of lymphatic (mean: 3.700, #10) vs distant (mean 3.000, #6) metastases samples: Mann-Whitney U statistic 35.000, p-value 6.0720e-01\n"
     ]
    },
    {
     "data": {
      "image/png": "[encoded data removed]",
      "text/plain": [
       "<Figure size 144x180 with 1 Axes>"
      ]
     },
     "metadata": {},
     "output_type": "display_data"
    }
   ],
   "source": [
    "# Create boxplot to compare the number of samples of lymphatic and distant metastases (Fig. 1e)\n",
    "# diamond marker for mean per group\n",
    "meanpointprops = dict(marker='d', markeredgecolor='black', markeredgewidth=0.2,\n",
    "                      markerfacecolor='magenta', markersize=9)\n",
    "\n",
    "with sns.axes_style('white', {'axes.grid': False, 'grid.linestyle': u':', \n",
    "                              'xtick.labelsize': 13, 'ytick.labelsize': 10,\n",
    "                              'ytick.major.size': 4.0}):\n",
    "    \n",
    "    f, ax = plt.subplots(figsize=(2.0, 2.5))\n",
    "    sns.boxplot(x='Type', y='NoSamples', data=phyletic_df, palette=colors, whis=True,\n",
    "                showmeans=True, meanprops=meanpointprops, orient=\"v\", width=0.7, showfliers=False, \n",
    "                order=['Lymphatic', 'Distant'], ax=ax)\n",
    "    sns.swarmplot(x='Type', y='NoSamples', data=phyletic_df, color=\".3\", size=6, \n",
    "                  order=['Lymphatic', 'Distant'], ax=ax)\n",
    "\n",
    "    ax.yaxis.set_tick_params(which='major', left='on')\n",
    "    ax.set(xlabel='');\n",
    "    ax.set(ylim=[0, 10], ylabel='No of sampled metastases')\n",
    "    sns.despine()\n",
    "    plt.savefig('pnl_met_samples.pdf', dpi=150, bbox_inches='tight', transparent=True)\n",
    "    \n",
    "# calculate Mann-Whitney statistic\n",
    "# t_stat, p_val = stats.ttest_ind(phyletic_df[phyletic_df.Type == 'Lymphatic'].NoSamples, \n",
    "#                                 phyletic_df[phyletic_df.Type == 'Distant'].NoSamples)\n",
    "\n",
    "mwus = stats.mannwhitneyu(phyletic_df[phyletic_df.Type == 'Lymphatic'].NoSamples, \n",
    "                          phyletic_df[phyletic_df.Type == 'Distant'].NoSamples, alternative='two-sided')\n",
    "            \n",
    "print('Number of lymphatic (mean: {:.3f}, #{}) vs distant (mean {:.3f}, #{}) metastases samples: Mann-Whitney U statistic {:.3f}, p-value {:.4e}'.format(\n",
    "    np.mean(phyletic_df[phyletic_df.Type == 'Lymphatic'].NoSamples), \n",
    "    len(phyletic_df[phyletic_df.Type == 'Lymphatic'].NoSamples), \n",
    "    np.mean(phyletic_df[phyletic_df.Type == 'Distant'].NoSamples), \n",
    "    len(phyletic_df[phyletic_df.Type == 'Distant'].NoSamples), \n",
    "    mwus[0], mwus[1]))"
   ]
  },
  {
   "cell_type": "code",
   "execution_count": null,
   "metadata": {},
   "outputs": [],
   "source": []
  }
 ],
 "metadata": {
  "kernelspec": {
   "display_name": "Python 3",
   "language": "python",
   "name": "python3"
  },
  "language_info": {
   "codemirror_mode": {
    "name": "ipython",
    "version": 3
   },
   "file_extension": ".py",
   "mimetype": "text/x-python",
   "name": "python",
   "nbconvert_exporter": "python",
   "pygments_lexer": "ipython3",
   "version": "3.6.10"
  }
 },
 "nbformat": 4,
 "nbformat_minor": 2
}
